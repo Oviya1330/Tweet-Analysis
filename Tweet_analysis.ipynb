{
  "cells": [
    {
      "cell_type": "code",
      "execution_count": 4,
      "metadata": {
        "id": "5cKkQ1pm5OTH"
      },
      "outputs": [
        {
          "ename": "ModuleNotFoundError",
          "evalue": "No module named 'tweepy'",
          "output_type": "error",
          "traceback": [
            "\u001b[1;31m---------------------------------------------------------------------------\u001b[0m",
            "\u001b[1;31mModuleNotFoundError\u001b[0m                       Traceback (most recent call last)",
            "\u001b[1;32mc:\\Users\\Sathya\\Documents\\Tweet_Analysis\\Tweet_analysis.ipynb Cell 1\u001b[0m in \u001b[0;36m<cell line: 1>\u001b[1;34m()\u001b[0m\n\u001b[1;32m----> <a href='vscode-notebook-cell:/c%3A/Users/Sathya/Documents/Tweet_Analysis/Tweet_analysis.ipynb#W0sZmlsZQ%3D%3D?line=0'>1</a>\u001b[0m \u001b[39mimport\u001b[39;00m \u001b[39mtweepy\u001b[39;00m\n\u001b[0;32m      <a href='vscode-notebook-cell:/c%3A/Users/Sathya/Documents/Tweet_Analysis/Tweet_analysis.ipynb#W0sZmlsZQ%3D%3D?line=1'>2</a>\u001b[0m \u001b[39mfrom\u001b[39;00m \u001b[39mtextblob\u001b[39;00m \u001b[39mimport\u001b[39;00m TextBlob\n\u001b[0;32m      <a href='vscode-notebook-cell:/c%3A/Users/Sathya/Documents/Tweet_Analysis/Tweet_analysis.ipynb#W0sZmlsZQ%3D%3D?line=2'>3</a>\u001b[0m \u001b[39mfrom\u001b[39;00m \u001b[39mwordcloud\u001b[39;00m \u001b[39mimport\u001b[39;00m WordCloud\n",
            "\u001b[1;31mModuleNotFoundError\u001b[0m: No module named 'tweepy'"
          ]
        }
      ],
      "source": [
        "import tweepy\n",
        "from textblob import TextBlob\n",
        "from wordcloud import WordCloud\n",
        "import pandas as pd\n",
        "import numpy as np\n",
        "import re\n",
        "import matplotlib.pyplot as plt\n",
        "plt.style.use('fivethirtyeight')"
      ]
    },
    {
      "cell_type": "code",
      "execution_count": null,
      "metadata": {
        "id": "KlxsKUt_6TPW"
      },
      "outputs": [],
      "source": [
        "df = pd.read_csv('/content/Twitter Sentiments.csv')"
      ]
    },
    {
      "cell_type": "code",
      "execution_count": null,
      "metadata": {
        "id": "j7KoXKmDAM-b"
      },
      "outputs": [],
      "source": [
        "df.info()"
      ]
    },
    {
      "cell_type": "code",
      "execution_count": null,
      "metadata": {
        "id": "BoZ-9eV8AdpK"
      },
      "outputs": [],
      "source": [
        "def remove_pattern(input_txt, pattern):\n",
        "    r = re.findall(pattern, input_txt)\n",
        "    for word in r:\n",
        "        input_txt = re.sub(word, \"\", input_txt)\n",
        "    return input_txt"
      ]
    },
    {
      "cell_type": "code",
      "execution_count": null,
      "metadata": {
        "id": "2TsXZp9FAj_z"
      },
      "outputs": [],
      "source": [
        "df['clean_tweet'] = np.vectorize(remove_pattern)(df['tweet'], \"@[\\w]*\")"
      ]
    },
    {
      "cell_type": "code",
      "execution_count": null,
      "metadata": {
        "colab": {
          "base_uri": "https://localhost:8080/"
        },
        "id": "rqKJZPAaAmmw",
        "outputId": "afc986e7-5eab-4e9b-f8a9-66aa71d17353"
      },
      "outputs": [],
      "source": [
        "df['clean_tweet'] = df['clean_tweet'].str.replace(\"[^a-zA-Z#]\", \" \")"
      ]
    },
    {
      "cell_type": "code",
      "execution_count": null,
      "metadata": {
        "id": "r3e7lsXhApP-"
      },
      "outputs": [],
      "source": [
        "df['clean_tweet'] = df['clean_tweet'].apply(lambda x: \" \".join([w for w in x.split() if len(w)>3]))"
      ]
    },
    {
      "cell_type": "code",
      "execution_count": null,
      "metadata": {
        "id": "SBgE0mC8A9oP"
      },
      "outputs": [],
      "source": [
        "tokenized_tweet = df['clean_tweet'].apply(lambda x: x.split())"
      ]
    },
    {
      "cell_type": "code",
      "execution_count": null,
      "metadata": {
        "id": "Nm5G2VWFBLmq"
      },
      "outputs": [],
      "source": [
        "from nltk.stem.porter import PorterStemmer\n",
        "stemmer = PorterStemmer()\n",
        "\n",
        "tokenized_tweet = tokenized_tweet.apply(lambda sentence: [stemmer.stem(word) for word in sentence])\n"
      ]
    },
    {
      "cell_type": "code",
      "execution_count": null,
      "metadata": {
        "id": "HQX76bHgBOPb"
      },
      "outputs": [],
      "source": [
        "for i in range(len(tokenized_tweet)):\n",
        "    tokenized_tweet[i] = \" \".join(tokenized_tweet[i])\n",
        "    \n",
        "df['clean_tweet'] = tokenized_tweet"
      ]
    },
    {
      "cell_type": "code",
      "execution_count": null,
      "metadata": {
        "colab": {
          "base_uri": "https://localhost:8080/",
          "height": 442
        },
        "id": "uNBMLjbLB0St",
        "outputId": "ee8995a0-b149-404c-8c2d-ddccee06a1b4"
      },
      "outputs": [],
      "source": [
        "all_words = \" \".join([sentence for sentence in df['clean_tweet'][df['label']==0]])\n",
        "\n",
        "wordcloud = WordCloud(width=800, height=500, random_state=42, max_font_size=100).generate(all_words)\n",
        "\n",
        "\n",
        "plt.figure(figsize=(15,8))\n",
        "plt.imshow(wordcloud, interpolation='bilinear')\n",
        "plt.axis('off')\n",
        "#plt.show()"
      ]
    },
    {
      "cell_type": "code",
      "execution_count": null,
      "metadata": {
        "colab": {
          "base_uri": "https://localhost:8080/",
          "height": 442
        },
        "id": "l2fQORtBBUA8",
        "outputId": "89ac890f-658b-4678-9aba-f0329d949360"
      },
      "outputs": [],
      "source": [
        "all_words = \" \".join([sentence for sentence in df['clean_tweet']])\n",
        "\n",
        "from wordcloud import WordCloud\n",
        "wordcloud = WordCloud(width=800, height=500, random_state=42, max_font_size=150).generate(all_words)\n",
        "\n",
        "\n",
        "plt.figure(figsize=(15,8))\n",
        "plt.imshow(wordcloud, interpolation='bilinear')\n",
        "plt.axis('off')\n",
        "#plt.show()"
      ]
    },
    {
      "cell_type": "code",
      "execution_count": null,
      "metadata": {
        "colab": {
          "base_uri": "https://localhost:8080/",
          "height": 442
        },
        "id": "ZB2_AoWwBYKh",
        "outputId": "c6d4ca6e-07e3-47b2-8e4e-201dfead3e83"
      },
      "outputs": [],
      "source": [
        "all_words = \" \".join([sentence for sentence in df['clean_tweet'][df['label']==1]])\n",
        "\n",
        "wordcloud = WordCloud(width=800, height=500, random_state=42, max_font_size=100).generate(all_words)\n",
        "\n",
        "\n",
        "plt.figure(figsize=(15,8))\n",
        "plt.imshow(wordcloud, interpolation='bilinear')\n",
        "plt.axis('off')\n",
        "#plt.show()"
      ]
    },
    {
      "cell_type": "code",
      "execution_count": null,
      "metadata": {
        "id": "pvJjSvghB_UZ"
      },
      "outputs": [],
      "source": [
        "def hashtag_extract(tweets):\n",
        "    hashtags = []\n",
        "    # loop words in the tweet\n",
        "    for tweet in tweets:\n",
        "        ht = re.findall(r\"#(\\w+)\", tweet)\n",
        "        hashtags.append(ht)\n",
        "    return hashtags"
      ]
    },
    {
      "cell_type": "code",
      "execution_count": null,
      "metadata": {
        "id": "KoUXWWbrCN2y"
      },
      "outputs": [],
      "source": [
        "ht_positive = hashtag_extract(df['clean_tweet'][df['label']==0])\n",
        "ht_negative = hashtag_extract(df['clean_tweet'][df['label']==1])"
      ]
    },
    {
      "cell_type": "code",
      "execution_count": null,
      "metadata": {
        "id": "mGXxLBnkCSb9"
      },
      "outputs": [],
      "source": [
        "ht_positive = sum(ht_positive, [])\n",
        "ht_negative = sum(ht_negative, [])\n"
      ]
    },
    {
      "cell_type": "code",
      "execution_count": null,
      "metadata": {
        "id": "KwZF4t_5C-hN"
      },
      "outputs": [],
      "source": [
        "import nltk"
      ]
    },
    {
      "cell_type": "code",
      "execution_count": null,
      "metadata": {
        "id": "mOcYfQOUCmCc"
      },
      "outputs": [],
      "source": [
        "freq = nltk.FreqDist(ht_positive)\n",
        "d = pd.DataFrame({'Hashtag': list(freq.keys()),'Count': list(freq.values())})"
      ]
    },
    {
      "cell_type": "code",
      "execution_count": null,
      "metadata": {
        "id": "IxOxlAv5DJ8x"
      },
      "outputs": [],
      "source": [
        "import seaborn as sns"
      ]
    },
    {
      "cell_type": "code",
      "execution_count": null,
      "metadata": {
        "colab": {
          "base_uri": "https://localhost:8080/",
          "height": 385
        },
        "id": "REdNlt4LCuV1",
        "outputId": "c396149c-e8d1-4d8f-d51e-9b7601b68ab5"
      },
      "outputs": [],
      "source": [
        "d = d.nlargest(columns='Count', n=10)\n",
        "plt.figure(figsize=(15,9))\n",
        "sns.barplot(data=d, x='Hashtag', y='Count')\n",
        "plt.show()"
      ]
    },
    {
      "cell_type": "code",
      "execution_count": null,
      "metadata": {
        "colab": {
          "base_uri": "https://localhost:8080/",
          "height": 206
        },
        "id": "ng9l4ikgC8bh",
        "outputId": "04f927d9-37ef-4e19-c2e4-236cba029829"
      },
      "outputs": [],
      "source": [
        "freq = nltk.FreqDist(ht_negative)\n",
        "d = pd.DataFrame({'Hashtag': list(freq.keys()),'Count': list(freq.values())})\n",
        "d.head()"
      ]
    },
    {
      "cell_type": "code",
      "execution_count": null,
      "metadata": {
        "colab": {
          "base_uri": "https://localhost:8080/",
          "height": 388
        },
        "id": "g9CYXTlqDRXL",
        "outputId": "2285b76d-0b28-48b9-a122-6cbd11fdafa1"
      },
      "outputs": [],
      "source": [
        "d = d.nlargest(columns='Count', n=10)\n",
        "plt.figure(figsize=(15,9))\n",
        "sns.barplot(data=d, x='Hashtag', y='Count')\n",
        "plt.show()"
      ]
    },
    {
      "cell_type": "code",
      "execution_count": null,
      "metadata": {
        "id": "nMqz3sDgDY4D"
      },
      "outputs": [],
      "source": [
        "from sklearn.feature_extraction.text import CountVectorizer\n",
        "bow_vectorizer = CountVectorizer(max_df=0.90, min_df=2, max_features=1000, stop_words='english')\n",
        "bow = bow_vectorizer.fit_transform(df['clean_tweet'])"
      ]
    },
    {
      "cell_type": "code",
      "execution_count": null,
      "metadata": {
        "id": "2cFa49Y8DbrS"
      },
      "outputs": [],
      "source": [
        "from sklearn.model_selection import train_test_split\n",
        "x_train, x_test, y_train, y_test = train_test_split(bow, df['label'], random_state=42 , test_size = 0.2)"
      ]
    },
    {
      "cell_type": "code",
      "execution_count": null,
      "metadata": {
        "id": "i_O_OFBrDoMu"
      },
      "outputs": [],
      "source": [
        "from sklearn.linear_model import LogisticRegression\n",
        "from sklearn.metrics import f1_score, accuracy_score"
      ]
    },
    {
      "cell_type": "code",
      "execution_count": null,
      "metadata": {
        "id": "NvWmgCc-Dz66"
      },
      "outputs": [],
      "source": [
        "model = LogisticRegression()\n",
        "model.fit(x_train, y_train)"
      ]
    },
    {
      "cell_type": "code",
      "execution_count": null,
      "metadata": {
        "colab": {
          "base_uri": "https://localhost:8080/"
        },
        "id": "4wQEaBG5D2eH",
        "outputId": "485587dd-6bcc-4f13-df1b-ec71df8d8fd2"
      },
      "outputs": [],
      "source": [
        "pred = model.predict(x_test)\n",
        "f1_score(y_test, pred)"
      ]
    },
    {
      "cell_type": "code",
      "execution_count": null,
      "metadata": {
        "colab": {
          "base_uri": "https://localhost:8080/"
        },
        "id": "K0NTNd_MD6gA",
        "outputId": "3e675db7-b7eb-428b-bb7b-8f280452d71e"
      },
      "outputs": [],
      "source": [
        "accuracy_score(y_test, pred)"
      ]
    }
  ],
  "metadata": {
    "colab": {
      "collapsed_sections": [],
      "provenance": []
    },
    "kernelspec": {
      "display_name": "Python 3.10.6 64-bit",
      "language": "python",
      "name": "python3"
    },
    "language_info": {
      "codemirror_mode": {
        "name": "ipython",
        "version": 3
      },
      "file_extension": ".py",
      "mimetype": "text/x-python",
      "name": "python",
      "nbconvert_exporter": "python",
      "pygments_lexer": "ipython3",
      "version": "3.10.6"
    },
    "vscode": {
      "interpreter": {
        "hash": "87ea4e23bdbc6238343b7f1334d8d932129116d26a7a600773f37570b75230c2"
      }
    }
  },
  "nbformat": 4,
  "nbformat_minor": 0
}
